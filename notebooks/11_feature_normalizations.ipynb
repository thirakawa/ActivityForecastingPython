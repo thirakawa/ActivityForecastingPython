{
  "cells": [
    {
      "cell_type": "markdown",
      "metadata": {
        "id": "uwbOVbf2s8sJ"
      },
      "source": [
        "# バッチ正規化・Layer正規化・Instance正規化（CIFAR10を用いた物体認識）\n",
        "\n",
        "---\n",
        "## 目的\n",
        "畳み込みニューラルネットワーク (Convolutional Neural Network; CNN) を用いてCIFAR10データセットに対する物体認識を行う．\n",
        "その際，様々な正規化を用いることで，認識性能がどのように変化するかを確認する．\n",
        "\n",
        "## 対応するチャプター\n",
        "* 8.7.1: バッチ正規化\n",
        "* 8.1.3: バッチアルゴリズムとミニバッチアルゴリズム\n",
        "* 8.3.1: 確率的勾配降下法\n",
        "* 9.1: 畳み込み処理\n",
        "* 9.3: プーリング\n",
        "\n",
        "\n",
        "## モジュールのインポート\n",
        "プログラムの実行に必要なモジュールをインポートします．"
      ]
    },
    {
      "cell_type": "code",
      "execution_count": null,
      "metadata": {
        "id": "ogONd590s8sL"
      },
      "outputs": [],
      "source": [
        "from time import time\n",
        "import numpy as np\n",
        "import matplotlib.pyplot as plt\n",
        "\n",
        "import torch\n",
        "import torch.nn as nn\n",
        "\n",
        "from torchvision.datasets import CIFAR10\n",
        "from torchvision import transforms"
      ]
    },
    {
      "cell_type": "markdown",
      "metadata": {
        "id": "wHoZk9k9s8sM"
      },
      "source": [
        "## GPUの確認\n",
        "GPUを使用した計算が可能かどうかを確認します．\n",
        "\n",
        "`Use CUDA: True`と表示されれば，GPUを使用した計算をPyTorchで行うことが可能です．\n",
        "Falseとなっている場合は，上記の「Google Colaboratoryの設定確認・変更」に記載している手順にしたがって，設定を変更した後に，モジュールのインポートから始めてください．"
      ]
    },
    {
      "cell_type": "code",
      "execution_count": null,
      "metadata": {
        "id": "iunKU8I5s8sM"
      },
      "outputs": [],
      "source": [
        "use_cuda = torch.cuda.is_available()\n",
        "print('Use CUDA:', use_cuda)"
      ]
    },
    {
      "cell_type": "markdown",
      "metadata": {
        "id": "Aj54tcjes8sN"
      },
      "source": [
        "## データセットの読み込み\n",
        "CIFAR10データセットを読み込みます．\n",
        "\n",
        "読み込んだ学習データのサイズを確認します．\n",
        "学習データは5万枚，1つのデータサイズは3x32x32の画像のような形式となっています．\n",
        "これは32x32ピクセルのカラー画像という意味になります．"
      ]
    },
    {
      "cell_type": "code",
      "execution_count": null,
      "metadata": {
        "id": "Oj57s7hbs8sN"
      },
      "outputs": [],
      "source": [
        "train_data = CIFAR10(root=\"./\", train=True, transform=transforms.ToTensor(), download=True)\n",
        "test_data = CIFAR10(root=\"./\", train=False, transform=transforms.ToTensor(), download=True)\n",
        "\n",
        "print(train_data)\n",
        "print(test_data)"
      ]
    },
    {
      "cell_type": "markdown",
      "metadata": {
        "id": "xgDd3iX2zmSV"
      },
      "source": [
        "## ネットワークモデルの定義\n",
        "畳み込みニューラルネットワークを定義します．\n",
        "\n",
        "ここでは，畳み込み層2層，全結合層3層から構成されるネットワークとします．\n",
        "\n",
        "このネットワークでは，畳み込み層を適用した後に正規化を行います．\n",
        "\n",
        "`__init__()`の引数として，`norm`を選択し，使用する正規化の種類を選択します．\n",
        "そして，各畳み込み層に対する正規化を`self.norm1`, `self.norm2`として定義を行います．\n",
        "バッチ正規化（`BatchNorm2d`）およびインスタンス正規化（`InstanceNorm2d`）では，正規化する特徴の次元数（チャンネル数）を設定します．\n",
        "またLayer正規化（`LayerNorm`）では，入力される特徴マップのサイズを設定します．\n",
        "\n",
        "\n",
        "推論時は，畳み込み --> 正規化 --> 活性化関数 --> (必要に応じてPooling) の順番で処理を行います．"
      ]
    },
    {
      "cell_type": "code",
      "execution_count": null,
      "metadata": {
        "id": "TNHnp_YczmY3"
      },
      "outputs": [],
      "source": [
        "class CNN(nn.Module):\n",
        "    def __init__(self, norm='batch'):\n",
        "        super().__init__()\n",
        "        assert norm in ['batch', 'layer', 'instance'], \"norm should be selected from 'batch', 'layer', 'instance'\"\n",
        "        \n",
        "        self.conv1 = nn.Conv2d(3, 16, kernel_size=3, stride=1, padding=1)\n",
        "        \n",
        "        if norm == 'batch':\n",
        "            self.norm1 = nn.BatchNorm2d(16)\n",
        "        elif norm == 'layer':\n",
        "            self.norm1 = nn.LayerNorm((16, 32, 32))\n",
        "        elif norm == 'instance':\n",
        "            self.norm1 = nn.InstanceNorm2d(16)\n",
        "        \n",
        "        self.conv2 = nn.Conv2d(16, 32, kernel_size=3, stride=1, padding=1)\n",
        "        \n",
        "        if norm == 'batch':\n",
        "            self.norm2 = nn.BatchNorm2d(32)\n",
        "        elif norm == 'layer':\n",
        "            self.norm2 = nn.LayerNorm((32, 16, 16))\n",
        "        elif norm == 'instance':\n",
        "            self.norm2 = nn.InstanceNorm2d(32)\n",
        "        \n",
        "        self.l1 = nn.Linear(8 * 8 * 32, 1024)\n",
        "        self.l2 = nn.Linear(1024, 1024)\n",
        "        self.l3 = nn.Linear(1024, 10)\n",
        "        self.act = nn.ReLU()\n",
        "        self.pool = nn.MaxPool2d(2, 2)\n",
        "    \n",
        "    def forward(self, x):\n",
        "        h = self.pool(self.act(self.norm1(self.conv1(x))))\n",
        "        h = self.pool(self.act(self.norm2(self.conv2(h))))\n",
        "        h = h.view(h.size()[0], -1)\n",
        "        h = self.act(self.l1(h))\n",
        "        h = self.act(self.l2(h))\n",
        "        h = self.l3(h)\n",
        "        return h"
      ]
    },
    {
      "cell_type": "markdown",
      "metadata": {
        "id": "8Dwuvfouzmd7"
      },
      "source": [
        "## ネットワークの作成\n",
        "上のプログラムで定義したネットワークを作成します．\n",
        "\n",
        "ここでは，使用する正規化の種類を`norm_type`に設定し，ネットワークモデルを作成します．"
      ]
    },
    {
      "cell_type": "code",
      "execution_count": null,
      "metadata": {
        "id": "23m79Eq-zmjl"
      },
      "outputs": [],
      "source": [
        "norm_type = 'instance'\n",
        "\n",
        "model = CNN(norm=norm_type)\n",
        "if use_cuda:\n",
        "    model.cuda()\n",
        "\n",
        "optimizer = torch.optim.SGD(model.parameters(), lr=0.01, momentum=0.9)"
      ]
    },
    {
      "cell_type": "markdown",
      "metadata": {
        "id": "MUNa9Xe79vAG"
      },
      "source": [
        "## 学習\n",
        "１回の誤差を算出するデータ数（ミニバッチサイズ）を64，学習エポック数を20とします．\n",
        "CIFAR10の学習データサイズを取得し，1エポック内における更新回数を求めます．\n",
        "学習データは毎エポックでランダムに利用するため，numpyの`permutation`という関数を利用します．\n",
        "各更新において，学習用データと教師データをそれぞれ`x`と`t`とし，`to_gpu`関数でGPUに転送します．\n",
        "学習モデルにxを与えて各クラスの確率`y`を取得します．\n",
        "各クラスの確率`y`と教師ラベル`t`との誤差を`softmax_coross_entropy`誤差関数で算出します．\n",
        "また，認識精度も算出します．\n",
        "そして，誤差を`backward`関数で逆伝播し，ネットワークの更新を行います．"
      ]
    },
    {
      "cell_type": "code",
      "execution_count": null,
      "metadata": {
        "id": "68RE3RTa76-W"
      },
      "outputs": [],
      "source": [
        "# ミニバッチサイズ・エポック数の設定\n",
        "batch_size = 64\n",
        "epoch_num = 10\n",
        "n_iter = len(train_data) / batch_size\n",
        "\n",
        "# データローダーの設定\n",
        "train_loader = torch.utils.data.DataLoader(train_data, batch_size=batch_size, shuffle=True)\n",
        "\n",
        "# 誤差関数の設定\n",
        "criterion = nn.CrossEntropyLoss()\n",
        "if use_cuda:\n",
        "    criterion.cuda()\n",
        "\n",
        "# ネットワークを学習モードへ変更\n",
        "model.train()\n",
        "\n",
        "start = time()\n",
        "for epoch in range(1, epoch_num+1):\n",
        "    sum_loss = 0.0\n",
        "    count = 0\n",
        "    \n",
        "    for image, label in train_loader:\n",
        "        \n",
        "        if use_cuda:\n",
        "            image = image.cuda()\n",
        "            label = label.cuda()\n",
        "            \n",
        "        y = model(image)\n",
        "        \n",
        "        loss = criterion(y, label)\n",
        "        \n",
        "        model.zero_grad()\n",
        "        loss.backward()\n",
        "        optimizer.step()\n",
        "        \n",
        "        sum_loss += loss.item()\n",
        "        \n",
        "        pred = torch.argmax(y, dim=1)\n",
        "        count += torch.sum(pred == label)\n",
        "        \n",
        "    print(\"epoch: {}, mean loss: {}, mean accuracy: {}, elapsed_time :{}\".format(epoch,\n",
        "                                                                                 sum_loss / n_iter,\n",
        "                                                                                 count.item() / len(train_data),\n",
        "                                                                                 time() - start))"
      ]
    },
    {
      "cell_type": "markdown",
      "metadata": {
        "id": "119eIrSmzmw6"
      },
      "source": [
        "## テスト\n",
        "学習したネットワークモデルを用いて評価を行います．"
      ]
    },
    {
      "cell_type": "code",
      "execution_count": null,
      "metadata": {
        "id": "yoYVMRGLzm1I"
      },
      "outputs": [],
      "source": [
        "# データローダーの準備\n",
        "test_loader = torch.utils.data.DataLoader(test_data, batch_size=100, shuffle=False)\n",
        "\n",
        "# ネットワークを評価モードへ変更\n",
        "model.eval()\n",
        "\n",
        "# 評価の実行\n",
        "count = 0\n",
        "with torch.no_grad():\n",
        "    for image, label in test_loader:\n",
        "\n",
        "        if use_cuda:\n",
        "            image = image.cuda()\n",
        "            label = label.cuda()\n",
        "            \n",
        "        y = model(image)\n",
        "\n",
        "        pred = torch.argmax(y, dim=1)\n",
        "        count += torch.sum(pred == label)\n",
        "\n",
        "print(\"test accuracy: {}\".format(count.item() / 10000.))"
      ]
    },
    {
      "cell_type": "markdown",
      "metadata": {
        "id": "GxjLs6rZs8sR"
      },
      "source": [
        "## 課題\n",
        "1. 正規化の有無や種類の違いによる認識性能の変化を確認しましょう\n"
      ]
    }
  ],
  "metadata": {
    "kernelspec": {
      "display_name": "Python 3",
      "language": "python",
      "name": "python3"
    },
    "language_info": {
      "codemirror_mode": {
        "name": "ipython",
        "version": 3
      },
      "file_extension": ".py",
      "mimetype": "text/x-python",
      "name": "python",
      "nbconvert_exporter": "python",
      "pygments_lexer": "ipython3",
      "version": "3.7.9"
    },
    "colab": {
      "name": "11_feature_normalizations.ipynb",
      "provenance": [],
      "toc_visible": true
    },
    "accelerator": "GPU"
  },
  "nbformat": 4,
  "nbformat_minor": 0
}